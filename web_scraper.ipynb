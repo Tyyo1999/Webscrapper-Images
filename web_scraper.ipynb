{
 "cells": [
  {
   "cell_type": "code",
   "execution_count": 1,
   "metadata": {},
   "outputs": [
    {
     "name": "stdout",
     "output_type": "stream",
     "text": [
      "https://images.google.com/\n"
     ]
    }
   ],
   "source": [
    "import mechanicalsoup\n",
    "\n",
    "browser = mechanicalsoup.StatefulBrowser()\n",
    "url = 'https://images.google.com'\n",
    "\n",
    "browser.open(url)\n",
    "print(browser.get_url())"
   ]
  },
  {
   "cell_type": "code",
   "execution_count": 2,
   "metadata": {},
   "outputs": [
    {
     "name": "stdout",
     "output_type": "stream",
     "text": [
      "<input name=\"tbm\" type=\"hidden\" value=\"isch\"/>\n",
      "<input name=\"ie\" type=\"hidden\" value=\"ISO-8859-1\"/>\n",
      "<input name=\"hl\" type=\"hidden\" value=\"en\"/>\n",
      "<input name=\"source\" type=\"hidden\" value=\"hp\"/>\n",
      "<input name=\"biw\" type=\"hidden\"/>\n",
      "<input name=\"bih\" type=\"hidden\"/>\n",
      "<input autocomplete=\"off\" class=\"lst\" maxlength=\"2048\" name=\"q\" size=\"57\" style=\"margin:0;padding:5px 8px 0 6px;vertical-align:top;color:#000\" title=\"Search Images\" value=\"\"/>\n",
      "<input class=\"lsb\" name=\"btnG\" type=\"submit\" value=\"Search Images\"/>\n",
      "<input id=\"gbv\" name=\"gbv\" type=\"hidden\" value=\"1\"/>\n",
      "new url: https://www.google.com/search?tbm=isch&ie=ISO-8859-1&hl=en&source=hp&biw=&bih=&q=cats+for+example&btnG=Search+Images&gbv=1\n",
      "my response:\n",
      " <!DOCTYPE html PUBLIC \"-//WAPFORUM//DTD XHTML Mobile 1.0//EN\" \"http://www.wapforum.org/DTD/xhtml-mobile10.dtd\"><html xmlns=\"http://www.w3.org/1999/xhtml\" lang=\"en\"><head><meta content=\"application/xhtml+xml; charset=UTF-8\" http-equiv=\"Content-Type\"/><meta content=\"no-cache\" name=\"Cache-Control\"/><title>cats for example - Google Search</title><style>a{text-decoration:none;color:inherit}a:hover{text-decoration:underline}a img{border:0}body{font-family:arial,sans-serif;padding:8px;margin:0 auto;max\n"
     ]
    }
   ],
   "source": [
    "#get HTML\n",
    "browser.get_current_page()\n",
    "\n",
    "#target the search input()\n",
    "browser.select_form()\n",
    "browser.get_current_form().print_summary()\n",
    "\n",
    "#search for a term\n",
    "search_term = 'cats for example'\n",
    "browser[\"q\"] = search_term\n",
    "\n",
    "#submit/\"click\" search\n",
    "browser.launch_browser()\n",
    "response = browser.submit_selected()\n",
    "\n",
    "print('new url:', browser.get_url())\n",
    "print('my response:\\n', response.text[:500])"
   ]
  },
  {
   "cell_type": "code",
   "execution_count": 3,
   "metadata": {},
   "outputs": [
    {
     "data": {
      "text/plain": [
       "['/images/branding/searchlogo/1x/googlelogo_desk_heirloom_color_150x55dp.gif',\n",
       " 'https://encrypted-tbn0.gstatic.com/images?q=tbn:ANd9GcRg5iBTWSnNTCqUD6fQRg-2NqF8XWhTnf3Z9VRt8h3NHYIpW3937K4ylRP3xEk&s',\n",
       " 'https://encrypted-tbn0.gstatic.com/images?q=tbn:ANd9GcSSbJ-_H1cGhw_ZUFPBzT9xnwgOj-dWrrP5AYiZVbj1oonQG67TXjl4docq-5g&s',\n",
       " 'https://encrypted-tbn0.gstatic.com/images?q=tbn:ANd9GcRyJfu_Dlu8Hwo5renWAs6J1rDzSADfeVV04E6j3pCy7MtnWZVoUluyBRCP9Qo&s',\n",
       " 'https://encrypted-tbn0.gstatic.com/images?q=tbn:ANd9GcRc3lYmyNfsc-91A22SiVV5_THb8DoYB0SvQdDtxuysaW-CeIdtI6B0B6zZAg&s',\n",
       " 'https://encrypted-tbn0.gstatic.com/images?q=tbn:ANd9GcSlRS0887IvnIt1Hdw6Ty15U1MrD0qs-L0cKqkszx6W-LBoi1dIpNyFn5Qu4F0&s',\n",
       " 'https://encrypted-tbn0.gstatic.com/images?q=tbn:ANd9GcSWwmAVEruSTO_jJJVmupxEhpPjXFPsRrcq9mpBo1Isr9FHsFe3Ivl7ti4bGMw&s',\n",
       " 'https://encrypted-tbn0.gstatic.com/images?q=tbn:ANd9GcTV6Co1Ps3Zn0uOeLG1P70Ur5iSFCwYR1pNOpVxMRECzQZUW8d09QN7s75nDg&s',\n",
       " 'https://encrypted-tbn0.gstatic.com/images?q=tbn:ANd9GcSpcPBqqdl0GyyJldY3wynsNbK5RVQpBavKabUPq-MRjHxmKHlZTRP_gdog0A&s',\n",
       " 'https://encrypted-tbn0.gstatic.com/images?q=tbn:ANd9GcSSyHFpRfCn3KnctrxA2AseLxRjU-33UHnsrzK_F8gyeBgnphHrNl6dM0_psAg&s',\n",
       " 'https://encrypted-tbn0.gstatic.com/images?q=tbn:ANd9GcQ_CKnFzLaaVhy1wRpVUc3YwKWPs6NrD-HmJrv8lCUJdFYYUOF33XnZcYMjPg&s',\n",
       " 'https://encrypted-tbn0.gstatic.com/images?q=tbn:ANd9GcQO7xV2yILCJlBWfaGSpbHSjtCt4zVoXIJuslvm4lUQUEjFnpIWrhcY9CJz6Q&s',\n",
       " 'https://encrypted-tbn0.gstatic.com/images?q=tbn:ANd9GcQt1442fMNylU_RvgLgtNH2Xdk-ZPmMV08JcVswjoLugtriMqVCeNHFTOQkmw&s',\n",
       " 'https://encrypted-tbn0.gstatic.com/images?q=tbn:ANd9GcRtE-fYqqAL4OiYZIdHvw2JmFliRL2r6ynp2GAqfwqCETfnqADeBj8ekU2wpqg&s',\n",
       " 'https://encrypted-tbn0.gstatic.com/images?q=tbn:ANd9GcQlOK3p6P5ogsH87e1e2ejLjUrPE0EWn-n2-Ms79_eMWQ-KUriyt8skiR1qQa8&s',\n",
       " 'https://encrypted-tbn0.gstatic.com/images?q=tbn:ANd9GcT9LOXvi4B9nzY2R-JZSzYXpycZW2ulX7IT0q3Hw1E_YaodRmpLmy6ozF5MkYw&s',\n",
       " 'https://encrypted-tbn0.gstatic.com/images?q=tbn:ANd9GcSY8liHdSd2CE4OAuk1WLvIlh3aIE-H9gESUDV3xXVnIZNzsNCykKMzBnC2KE0&s',\n",
       " 'https://encrypted-tbn0.gstatic.com/images?q=tbn:ANd9GcT5Dg_ILJjfzcXznvuARAV7GhsZuaVi6czLyzSozy5dSRtSwYhyI949HB7lng&s',\n",
       " 'https://encrypted-tbn0.gstatic.com/images?q=tbn:ANd9GcTDr22yL3Z7USe_eRTBPInw51qPuU-VPjhotu7tMm3QBDR9qSa2xVSrpjWmspI&s',\n",
       " 'https://encrypted-tbn0.gstatic.com/images?q=tbn:ANd9GcQudAa-di84u2Sn1N6nb44Sjxls_ByfqWKIFbwbIGpAshYwI7nw6E76Y1P6FXs&s',\n",
       " 'https://encrypted-tbn0.gstatic.com/images?q=tbn:ANd9GcTYJZCjUwkz_Mcp3WkMugr3IUOZYJBCW8fFbsAfn501-UmQJZWB2bbE8EZlZno&s']"
      ]
     },
     "execution_count": 3,
     "metadata": {},
     "output_type": "execute_result"
    }
   ],
   "source": [
    "#open new URL\n",
    "new_url = browser.get_url()\n",
    "browser.open(new_url)\n",
    "\n",
    "#get HTML\n",
    "page = browser.get_current_page()\n",
    "all_images = page.find_all('img')\n",
    "\n",
    "#target the source attribute\n",
    "image_source = []\n",
    "for image in all_images:\n",
    "  image = image.get('src')\n",
    "  image_source.append(image)\n",
    "\n",
    "image_source"
   ]
  },
  {
   "cell_type": "code",
   "execution_count": 4,
   "metadata": {},
   "outputs": [
    {
     "data": {
      "text/plain": [
       "['https://encrypted-tbn0.gstatic.com/images?q=tbn:ANd9GcRg5iBTWSnNTCqUD6fQRg-2NqF8XWhTnf3Z9VRt8h3NHYIpW3937K4ylRP3xEk&s',\n",
       " 'https://encrypted-tbn0.gstatic.com/images?q=tbn:ANd9GcSSbJ-_H1cGhw_ZUFPBzT9xnwgOj-dWrrP5AYiZVbj1oonQG67TXjl4docq-5g&s',\n",
       " 'https://encrypted-tbn0.gstatic.com/images?q=tbn:ANd9GcRyJfu_Dlu8Hwo5renWAs6J1rDzSADfeVV04E6j3pCy7MtnWZVoUluyBRCP9Qo&s',\n",
       " 'https://encrypted-tbn0.gstatic.com/images?q=tbn:ANd9GcRc3lYmyNfsc-91A22SiVV5_THb8DoYB0SvQdDtxuysaW-CeIdtI6B0B6zZAg&s',\n",
       " 'https://encrypted-tbn0.gstatic.com/images?q=tbn:ANd9GcSlRS0887IvnIt1Hdw6Ty15U1MrD0qs-L0cKqkszx6W-LBoi1dIpNyFn5Qu4F0&s',\n",
       " 'https://encrypted-tbn0.gstatic.com/images?q=tbn:ANd9GcSWwmAVEruSTO_jJJVmupxEhpPjXFPsRrcq9mpBo1Isr9FHsFe3Ivl7ti4bGMw&s',\n",
       " 'https://encrypted-tbn0.gstatic.com/images?q=tbn:ANd9GcTV6Co1Ps3Zn0uOeLG1P70Ur5iSFCwYR1pNOpVxMRECzQZUW8d09QN7s75nDg&s',\n",
       " 'https://encrypted-tbn0.gstatic.com/images?q=tbn:ANd9GcSpcPBqqdl0GyyJldY3wynsNbK5RVQpBavKabUPq-MRjHxmKHlZTRP_gdog0A&s',\n",
       " 'https://encrypted-tbn0.gstatic.com/images?q=tbn:ANd9GcSSyHFpRfCn3KnctrxA2AseLxRjU-33UHnsrzK_F8gyeBgnphHrNl6dM0_psAg&s',\n",
       " 'https://encrypted-tbn0.gstatic.com/images?q=tbn:ANd9GcQ_CKnFzLaaVhy1wRpVUc3YwKWPs6NrD-HmJrv8lCUJdFYYUOF33XnZcYMjPg&s',\n",
       " 'https://encrypted-tbn0.gstatic.com/images?q=tbn:ANd9GcQO7xV2yILCJlBWfaGSpbHSjtCt4zVoXIJuslvm4lUQUEjFnpIWrhcY9CJz6Q&s',\n",
       " 'https://encrypted-tbn0.gstatic.com/images?q=tbn:ANd9GcQt1442fMNylU_RvgLgtNH2Xdk-ZPmMV08JcVswjoLugtriMqVCeNHFTOQkmw&s',\n",
       " 'https://encrypted-tbn0.gstatic.com/images?q=tbn:ANd9GcRtE-fYqqAL4OiYZIdHvw2JmFliRL2r6ynp2GAqfwqCETfnqADeBj8ekU2wpqg&s',\n",
       " 'https://encrypted-tbn0.gstatic.com/images?q=tbn:ANd9GcQlOK3p6P5ogsH87e1e2ejLjUrPE0EWn-n2-Ms79_eMWQ-KUriyt8skiR1qQa8&s',\n",
       " 'https://encrypted-tbn0.gstatic.com/images?q=tbn:ANd9GcT9LOXvi4B9nzY2R-JZSzYXpycZW2ulX7IT0q3Hw1E_YaodRmpLmy6ozF5MkYw&s',\n",
       " 'https://encrypted-tbn0.gstatic.com/images?q=tbn:ANd9GcSY8liHdSd2CE4OAuk1WLvIlh3aIE-H9gESUDV3xXVnIZNzsNCykKMzBnC2KE0&s',\n",
       " 'https://encrypted-tbn0.gstatic.com/images?q=tbn:ANd9GcT5Dg_ILJjfzcXznvuARAV7GhsZuaVi6czLyzSozy5dSRtSwYhyI949HB7lng&s',\n",
       " 'https://encrypted-tbn0.gstatic.com/images?q=tbn:ANd9GcTDr22yL3Z7USe_eRTBPInw51qPuU-VPjhotu7tMm3QBDR9qSa2xVSrpjWmspI&s',\n",
       " 'https://encrypted-tbn0.gstatic.com/images?q=tbn:ANd9GcQudAa-di84u2Sn1N6nb44Sjxls_ByfqWKIFbwbIGpAshYwI7nw6E76Y1P6FXs&s',\n",
       " 'https://encrypted-tbn0.gstatic.com/images?q=tbn:ANd9GcTYJZCjUwkz_Mcp3WkMugr3IUOZYJBCW8fFbsAfn501-UmQJZWB2bbE8EZlZno&s']"
      ]
     },
     "execution_count": 4,
     "metadata": {},
     "output_type": "execute_result"
    }
   ],
   "source": [
    "image_source = [image for image in image_source if image.startswith('https')]\n",
    "image_source "
   ]
  },
  {
   "cell_type": "code",
   "execution_count": null,
   "metadata": {},
   "outputs": [],
   "source": [
    "import os\n",
    "import wget\n",
    "\n",
    "path = os.getcwd()\n",
    "path = os.path.join(path, search_term + \"s\")\n",
    "\n",
    "#create the directory\n",
    "os.mkdir(path)\n",
    "\n",
    "path"
   ]
  },
  {
   "cell_type": "code",
   "execution_count": 6,
   "metadata": {},
   "outputs": [],
   "source": [
    "#download image\n",
    "counter = 0\n",
    "for image in image_source:\n",
    "  save_as = os.path.join(path, search_term + str(counter) + '.jpg')\n",
    "  wget.download(image, save_as)\n",
    "  counter += 1"
   ]
  },
  {
   "cell_type": "code",
   "execution_count": null,
   "metadata": {},
   "outputs": [],
   "source": []
  }
 ],
 "metadata": {
  "kernelspec": {
   "display_name": "Python 3",
   "language": "python",
   "name": "python3"
  },
  "language_info": {
   "codemirror_mode": {
    "name": "ipython",
    "version": 3
   },
   "file_extension": ".py",
   "mimetype": "text/x-python",
   "name": "python",
   "nbconvert_exporter": "python",
   "pygments_lexer": "ipython3",
   "version": "3.10.1"
  },
  "orig_nbformat": 4,
  "vscode": {
   "interpreter": {
    "hash": "369f2c481f4da34e4445cda3fffd2e751bd1c4d706f27375911949ba6bb62e1c"
   }
  }
 },
 "nbformat": 4,
 "nbformat_minor": 2
}
